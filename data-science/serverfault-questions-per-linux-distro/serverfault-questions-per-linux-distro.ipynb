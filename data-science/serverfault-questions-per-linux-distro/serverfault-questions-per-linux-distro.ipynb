{
 "cells": [
  {
   "cell_type": "markdown",
   "metadata": {},
   "source": [
    "# Questions per Linux Distribution\n",
    "This notebook intends to show how many questions are under the tag for each linux distribution on serverfault.com.\n",
    "\n",
    "# Step 1: get a list of programming languages\n",
    "We will use the wikipedia page for [list of linux distributions](https://en.wikipedia.org/wiki/List_of_Linux_distributions) as our major source."
   ]
  },
  {
   "cell_type": "code",
   "execution_count": 2,
   "metadata": {},
   "outputs": [],
   "source": [
    "WIKIPEDIA_LIST_OF_LINUX_DISTRIBUTIONS = 'https://en.wikipedia.org/wiki/List_of_Linux_distributions'\n",
    "\n",
    "import requests\n",
    "from bs4 import BeautifulSoup\n",
    "\n",
    "with requests.get(WIKIPEDIA_LIST_OF_LINUX_DISTRIBUTIONS) as r:\n",
    "    soup = BeautifulSoup(r.text, 'html.parser')"
   ]
  },
  {
   "cell_type": "markdown",
   "metadata": {},
   "source": [
    "Next, we scrape for names of linux distributions."
   ]
  },
  {
   "cell_type": "code",
   "execution_count": 16,
   "metadata": {},
   "outputs": [],
   "source": [
    "import re\n",
    "\n",
    "table_rows = soup.find_all('tr')\n",
    "\n",
    "linux_distros = []\n",
    "\n",
    "for tr in table_rows:\n",
    "    td = tr.find('td')\n",
    "    if(td != None):\n",
    "        a = td.find('a')\n",
    "        if(a != None and a.text != ''):\n",
    "            linux_distros.append(a.text)\n",
    "            \n",
    "for i in range(len(linux_distros)):\n",
    "    linux_distros[i] = linux_distros[i].replace(' ', '-')"
   ]
  },
  {
   "cell_type": "markdown",
   "metadata": {},
   "source": [
    "# Step 2: query serverfault for the number of questions having each tag"
   ]
  },
  {
   "cell_type": "code",
   "execution_count": 50,
   "metadata": {},
   "outputs": [
    {
     "name": "stdout",
     "output_type": "stream",
     "text": [
      "14644\n",
      "\r\n",
      "Ubuntu Linux is a Debian derivative that aims to bring Linux mainstream. Questions on this site should generally refer to Ubuntu Server. Note that http://askubuntu.com is specifically dedicated to Ubuntu questions.                    \n",
      "\n",
      "ubuntu          14644 \r\n",
      "Ubuntu Linux is a Debian derivative that aims to...\n"
     ]
    }
   ],
   "source": [
    "SERVERFAULT_TAG_SEARCH_URL_BASE = 'https://serverfault.com/questions/tagged/'\n",
    "\n",
    "# simple class to hold data\n",
    "class Distro:\n",
    "    tag = ''\n",
    "    num_questions = 0\n",
    "    description = ''\n",
    "    \n",
    "    def __init__(self, tag, num_questions, description):\n",
    "        self.tag = tag\n",
    "        self.num_questions = num_questions\n",
    "        self.description = description\n",
    "        \n",
    "    def __str__(self):\n",
    "        return '{:10} {:10d} {:50.50}...'.format(self.tag, self.num_questions, self.description)\n",
    "        \n",
    "# regular expression for getting number from questions\n",
    "re_num_questions = re.compile(r'(\\d+,?)+' , re.MULTILINE)\n",
    "\n",
    "linux_distro_stats = []\n",
    "ld = 'ubuntu'\n",
    "\n",
    "#for ld in linux_distros:\n",
    "#    with requests.get(SERVERFAULT_TAG_SEARCH_URL_BASE + ld) as r:\n",
    "with requests.get(SERVERFAULT_TAG_SEARCH_URL_BASE + ld) as r:\n",
    "    if r.ok:\n",
    "        ### create soup from webpage\n",
    "        soup = BeautifulSoup(r.text, 'html.parser')\n",
    "        \n",
    "        ### find div with number of questions\n",
    "        questions_text = soup.find('div', {'class': 'fs-body3 grid--cell fl1 mr12 sm:mr0 sm:mb12'})\n",
    "        num_questions_match = re_num_questions.search(questions_text.text)\n",
    "        num_questions_string = num_questions_match.group(0).replace(',', '')\n",
    "        num_questions = int(num_questions_string)\n",
    "        print(num_questions)\n",
    "        \n",
    "        ### find descripition\n",
    "        description_container = soup.find_all('div', {'class': 'mb24'})\n",
    "        # we are operating under the assumption that the description is the *second* div with \n",
    "        # class mb24. THIS MAY CHANGE without notice. We are subject to the whims of \n",
    "        # serverfault\n",
    "        description_container = description_container[1]\n",
    "        description = description_container.find('p').text\n",
    "        print(description)\n",
    "        \n",
    "        ### put it all into a Distro object that gets added to our list\n",
    "        linux_distro_stats.append(Distro(ld, num_questions, description))\n",
    "\n",
    "print()\n",
    "print(str(linux_distro_stats[0]))"
   ]
  }
 ],
 "metadata": {
  "kernelspec": {
   "display_name": "Python 3",
   "language": "python",
   "name": "python3"
  },
  "language_info": {
   "codemirror_mode": {
    "name": "ipython",
    "version": 3
   },
   "file_extension": ".py",
   "mimetype": "text/x-python",
   "name": "python",
   "nbconvert_exporter": "python",
   "pygments_lexer": "ipython3",
   "version": "3.8.3"
  },
  "varInspector": {
   "cols": {
    "lenName": 16,
    "lenType": 16,
    "lenVar": 40
   },
   "kernels_config": {
    "python": {
     "delete_cmd_postfix": "",
     "delete_cmd_prefix": "del ",
     "library": "var_list.py",
     "varRefreshCmd": "print(var_dic_list())"
    },
    "r": {
     "delete_cmd_postfix": ") ",
     "delete_cmd_prefix": "rm(",
     "library": "var_list.r",
     "varRefreshCmd": "cat(var_dic_list()) "
    }
   },
   "types_to_exclude": [
    "module",
    "function",
    "builtin_function_or_method",
    "instance",
    "_Feature"
   ],
   "window_display": false
  }
 },
 "nbformat": 4,
 "nbformat_minor": 4
}
