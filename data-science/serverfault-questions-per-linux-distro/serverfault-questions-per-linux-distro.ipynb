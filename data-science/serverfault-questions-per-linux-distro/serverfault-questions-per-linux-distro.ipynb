{
 "cells": [
  {
   "cell_type": "markdown",
   "metadata": {},
   "source": [
    "# Questions per Linux Distribution\n",
    "This notebook intends to show how many questions are under the tag for each linux distribution on serverfault.com. If access to internet is unavailable or data from disk is preferred, execution may begin with the code cell under the heading \"Optional: Load old data from CSV\".\n",
    "\n",
    "# Step 1: get a list of programming languages\n",
    "We will use the wikipedia page for [list of linux distributions](https://en.wikipedia.org/wiki/List_of_Linux_distributions) as our major source."
   ]
  },
  {
   "cell_type": "code",
   "execution_count": 1,
   "metadata": {},
   "outputs": [],
   "source": [
    "#### This cell access the internet ####\n",
    "# grabs the wikipedia page \"list of linux distributions\"\n",
    "\n",
    "WIKIPEDIA_LIST_OF_LINUX_DISTRIBUTIONS = 'https://en.wikipedia.org/wiki/List_of_Linux_distributions'\n",
    "\n",
    "import requests\n",
    "from bs4 import BeautifulSoup\n",
    "\n",
    "with requests.get(WIKIPEDIA_LIST_OF_LINUX_DISTRIBUTIONS) as r:\n",
    "    distro_list_soup = BeautifulSoup(r.text, 'html.parser')"
   ]
  },
  {
   "cell_type": "markdown",
   "metadata": {},
   "source": [
    "Next, we scrape for names of linux distributions."
   ]
  },
  {
   "cell_type": "code",
   "execution_count": 2,
   "metadata": {},
   "outputs": [],
   "source": [
    "import re\n",
    "\n",
    "table_rows = distro_list_soup.find_all('tr')\n",
    "\n",
    "linux_distros = []\n",
    "\n",
    "for tr in table_rows:\n",
    "    td = tr.find('td')\n",
    "    if(td != None):\n",
    "        a = td.find('a')\n",
    "        if(a != None and a.text != ''):\n",
    "            linux_distros.append(a.text)\n",
    "            \n",
    "for i in range(len(linux_distros)):\n",
    "    linux_distros[i] = linux_distros[i].strip()\n",
    "    \n",
    "for i in range(len(linux_distros)):\n",
    "    linux_distros[i] = linux_distros[i].replace(' ', '-')\n",
    "\n",
    "for i in range(len(linux_distros)):\n",
    "    linux_distros[i] = linux_distros[i].lower()\n",
    "\n",
    "# manually removing things that aren't actually linux names and replacing \n",
    "# a few things that serverfault treats differently\n",
    "linux_distros.remove('history')\n",
    "linux_distros[linux_distros.index('red-hat-linux')] = 'redhat'\n",
    "\n",
    "# convert to set to remove duplicates\n",
    "linux_distros = set(linux_distros)"
   ]
  },
  {
   "cell_type": "markdown",
   "metadata": {},
   "source": [
    "# Step 2: query serverfault for the number of questions having each tag"
   ]
  },
  {
   "cell_type": "code",
   "execution_count": 3,
   "metadata": {},
   "outputs": [
    {
     "name": "stdout",
     "output_type": "stream",
     "text": [
      "Successfully stored info for questions on tag 'smoothwall'\n",
      "Successfully stored info for questions on tag 'fedora'\n",
      "Successfully stored info for questions on tag 'opensuse'\n",
      "Successfully stored info for questions on tag 'chrome-os'\n",
      "Successfully stored info for questions on tag 'oracle-linux'\n",
      "Successfully stored info for questions on tag 'devuan'\n",
      "Successfully stored info for questions on tag 'android'\n",
      "Successfully stored info for questions on tag 'openwrt'\n",
      "Successfully stored info for questions on tag 'vyatta'\n",
      "Successfully stored info for questions on tag 'clearos'\n",
      "Successfully stored info for questions on tag 'vyos'\n",
      "Successfully stored info for questions on tag 'scientific-linux'\n",
      "Successfully stored info for questions on tag 'arch-linux'\n",
      "Successfully stored info for questions on tag 'nixos'\n",
      "Successfully stored info for questions on tag 'redhat'\n",
      "Successfully stored info for questions on tag 'xubuntu'\n",
      "Successfully stored info for questions on tag 'ubuntu-server'\n",
      "Successfully stored info for questions on tag 'knoppix'\n",
      "Successfully stored info for questions on tag 'maemo'\n",
      "Successfully stored info for questions on tag 'nova'\n",
      "Successfully stored info for questions on tag 'amazon-linux-2'\n",
      "Successfully stored info for questions on tag 'kubuntu'\n",
      "Successfully stored info for questions on tag 'centos'\n",
      "Successfully stored info for questions on tag 'ubuntu'\n"
     ]
    }
   ],
   "source": [
    "#### This cell access the internet ####\n",
    "# scrapes serverfault for searches with tags\n",
    "\n",
    "import time\n",
    "\n",
    "SERVERFAULT_TAG_SEARCH_URL_BASE = 'https://serverfault.com/questions/tagged/'\n",
    "TIME_BETWEEN_REQUESTS = 0.5 # time is in seconds\n",
    "        \n",
    "# regular expression for getting number from questions\n",
    "re_num_questions = re.compile(r'(\\d+,?)+' , re.MULTILINE)\n",
    "\n",
    "linux_distro_stats = []\n",
    "ld = 'ubuntasdfu'\n",
    "\n",
    "for ld in linux_distros:\n",
    "    # stack exchange states that they throttles all IP addresses sending more than 30 \n",
    "    # requests per second. While writing this notebook, I've been rate limited even\n",
    "    # when sending only 5 requests per second. Therefore, we will wait a generous\n",
    "    # amount of time between each request to avoid rate-limiting\n",
    "    \n",
    "    time.sleep(TIME_BETWEEN_REQUESTS)\n",
    "    \n",
    "    with requests.get(SERVERFAULT_TAG_SEARCH_URL_BASE + ld) as r:\n",
    "        if r.ok:\n",
    "            ### create soup from webpage\n",
    "            serverfault_soup = BeautifulSoup(r.text, 'html.parser')\n",
    "\n",
    "            ### find div with number of questions\n",
    "            questions_text = serverfault_soup.find('div', {'class': 'fs-body3 grid--cell fl1 mr12 sm:mr0 sm:mb12'})\n",
    "            num_questions_match = re_num_questions.search(questions_text.text)\n",
    "            num_questions_string = num_questions_match.group(0).replace(',', '')\n",
    "            num_questions = int(num_questions_string)\n",
    "            #print(num_questions)\n",
    "\n",
    "            ### find descripition\n",
    "            description_container = serverfault_soup.find_all('div', {'class': 'mb24'})\n",
    "            # we are operating under the assumption that the description is the *second* div with \n",
    "            # class mb24. THIS MAY CHANGE without notice. We are subject to the whims of \n",
    "            # serverfault\n",
    "            description_container = description_container[1]\n",
    "            description = description_container.find('p').text\n",
    "            description = description.replace('\\r\\n', ' ')\n",
    "            description = description.replace('\\n', ' ')\n",
    "            description = description.strip()\n",
    "            #print(description)\n",
    "\n",
    "            ### put it all into a Distro object that gets added to our list\n",
    "            linux_distro_stats.append((ld, num_questions, description))\n",
    "            print('Successfully stored info for questions on tag \\'', ld, '\\'', sep='')\n",
    "        else:\n",
    "            #print('Got status code ', r.status_code, ' while searching for questions with tag \\'',\n",
    "            #      ld, '\\'', sep='')\n",
    "            if(r.status_code == 429):\n",
    "                print('This IP address has been rate-limited by stack exchange! Please '\n",
    "                      + 'try again later. You may optionally increase the time between '\n",
    "                      + 'requests by editing the variable \\'TIME_BETWEEN_REQUESTS\\'')"
   ]
  },
  {
   "cell_type": "markdown",
   "metadata": {},
   "source": [
    "# Step 3: Store data for later use\n",
    "In case stack exchange decides to implement more aggressive rate-limiting or dramatically changes their website, it will be handy to have this data saved to disk. Since we're going to want to use something like pandas to analyze and visualize the data, it makes sense to just create a DataFrame here and use that to write a csv to disk."
   ]
  },
  {
   "cell_type": "code",
   "execution_count": 4,
   "metadata": {},
   "outputs": [],
   "source": [
    "DATA_DIRECTORY = 'data'\n",
    "DATA_FILENAME = 'distro-data'\n",
    "\n",
    "import datetime\n",
    "import pandas\n",
    "from pathlib import Path\n",
    "\n",
    "distro_df = pandas.DataFrame(linux_distro_stats, columns = ['tag', 'num_questions', 'description'])\n",
    "\n",
    "n = datetime.datetime.now();\n",
    "output_filename = DATA_DIRECTORY + '/' + DATA_FILENAME + '_' + n.strftime('%Y-%m-%d_%H%M') + '.csv'\n",
    "\n",
    "Path(DATA_DIRECTORY).mkdir(exist_ok=True)\n",
    "\n",
    "with open(output_filename, 'w') as f:\n",
    "    distro_df.to_csv(f, index=False)"
   ]
  },
  {
   "cell_type": "markdown",
   "metadata": {},
   "source": [
    "## Optional: Load old data from CSV\n",
    "If live data from serverfault isn't available, data may be loaded from a CSV by uncommenting lines 4 and 5 below."
   ]
  },
  {
   "cell_type": "code",
   "execution_count": 1,
   "metadata": {},
   "outputs": [
    {
     "name": "stdout",
     "output_type": "stream",
     "text": [
      "distro_df is not defined, loading data from csv\n"
     ]
    }
   ],
   "source": [
    "# in case you haven't run cells before this one\n",
    "import pandas \n",
    "\n",
    "try:\n",
    "    distro_df\n",
    "except NameError:\n",
    "    print('distro_df is not defined, loading data from csv')\n",
    "    with open('data/distro-data_2020-10-14_1324.csv', 'r') as f:\n",
    "        distro_df = pandas.read_csv(f, header=0)\n",
    "else:\n",
    "    print('distro_dif is already defined! Doing nothing to avoid overwriting data...')"
   ]
  },
  {
   "cell_type": "markdown",
   "metadata": {},
   "source": [
    "# Step 4: Visualize data\n",
    "Now the results of our work. What are the linux distributions with the most questions asked?"
   ]
  },
  {
   "cell_type": "code",
   "execution_count": 3,
   "metadata": {},
   "outputs": [
    {
     "data": {
      "image/png": "[encoded data removed]",
      "text/plain": [
       "<Figure size 864x504 with 1 Axes>"
      ]
     },
     "metadata": {
      "needs_background": "light"
     },
     "output_type": "display_data"
    }
   ],
   "source": [
    "import matplotlib.pyplot as plt\n",
    "\n",
    "# sorting data\n",
    "distro_df.sort_values('num_questions', ascending=False, inplace=True)\n",
    "\n",
    "# dropping any distro that has fewer than 100 questions on it\n",
    "shortlist = distro_df[distro_df['num_questions'] > 100]\n",
    "\n",
    "# data we want\n",
    "names = shortlist['tag']\n",
    "num_questions = shortlist['num_questions']\n",
    "\n",
    "### plot data\n",
    "# font size\n",
    "plt.rcParams.update({'font.size': 18})\n",
    "\n",
    "# figure\n",
    "fig = plt.figure(figsize=(12, 7))\n",
    "\n",
    "ax = plt.subplot()\n",
    "\n",
    "# cosmetic\n",
    "ax.set_ylabel('Linux Distribution')\n",
    "ax.set_xlabel('Number of questions')\n",
    "ax.set_title('Number of questions per linux distribution on serverfault.com')\n",
    "\n",
    "# functional\n",
    "ax.invert_yaxis()\n",
    "#ax.set_xscale('log')\n",
    "ax.set_xlim([100, 15000])\n",
    "\n",
    "# create plot\n",
    "ax.barh(names, num_questions)\n",
    "\n",
    "plt.show()"
   ]
  },
  {
   "cell_type": "markdown",
   "metadata": {},
   "source": [
    "# Conclusion\n",
    "Clearly, ubuntu is the most asked-about linux distribution by a significant margin. Since ubuntu is marketed towards they \"everyday\" end-user, this makes a lot of sense. Stack exchange is community driven and full of questions from people learning on their personal time. CentOS surprised me with a third place, as I assumed that fedora would be the more popular redhat-based system for home use. \n",
    "\n",
    "This data provides some insight about what linux distributions are commonly used by common home users. However, there is a lot of selection bias in this casual survey: the number of questions asked seems to be a good indicator of distribution popularity, but this is a limited metric and should not be considered to be highly accurate."
   ]
  }
 ],
 "metadata": {
  "kernelspec": {
   "display_name": "Python 3",
   "language": "python",
   "name": "python3"
  },
  "language_info": {
   "codemirror_mode": {
    "name": "ipython",
    "version": 3
   },
   "file_extension": ".py",
   "mimetype": "text/x-python",
   "name": "python",
   "nbconvert_exporter": "python",
   "pygments_lexer": "ipython3",
   "version": "3.8.3"
  },
  "varInspector": {
   "cols": {
    "lenName": 16,
    "lenType": 16,
    "lenVar": 40
   },
   "kernels_config": {
    "python": {
     "delete_cmd_postfix": "",
     "delete_cmd_prefix": "del ",
     "library": "var_list.py",
     "varRefreshCmd": "print(var_dic_list())"
    },
    "r": {
     "delete_cmd_postfix": ") ",
     "delete_cmd_prefix": "rm(",
     "library": "var_list.r",
     "varRefreshCmd": "cat(var_dic_list()) "
    }
   },
   "types_to_exclude": [
    "module",
    "function",
    "builtin_function_or_method",
    "instance",
    "_Feature"
   ],
   "window_display": false
  }
 },
 "nbformat": 4,
 "nbformat_minor": 4
}
