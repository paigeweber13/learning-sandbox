{
 "cells": [
  {
   "cell_type": "markdown",
   "metadata": {},
   "source": [
    "# Questions Per Language\n",
    "This notebook intends to show how many stackoverflow questions exist for each programming language that has any considerable measure of use. "
   ]
  },
  {
   "cell_type": "markdown",
   "metadata": {},
   "source": [
    "# Step 0: Dependencies\n",
    "This notebood expects you to already have the major python data science tools like numpy, pandas, and beautifulsoup. The author wrote it using anaconda, and it's recommneded that you use anaconda as well. Odds are if you have jupyter installed, you already have all the necessary tools."
   ]
  },
  {
   "cell_type": "markdown",
   "metadata": {},
   "source": [
    "# Step 1: Get a List of Programming Languages\n",
    "We will use the [wikipedia page \"list of programming languages\"](https://en.wikipedia.org/wiki/List_of_programming_languages) as our major source. We will begin by downloading the HTML for that page and scraping it for names of programming languages."
   ]
  },
  {
   "cell_type": "code",
   "execution_count": 1,
   "metadata": {},
   "outputs": [],
   "source": [
    "WIKIPEDIA_LIST_OF_PROGRAMMING_LANGUAGES = 'https://en.wikipedia.org/wiki/List_of_programming_languages'\n",
    "\n",
    "import requests\n",
    "from bs4 import BeautifulSoup\n",
    "\n",
    "with requests.get(WIKIPEDIA_LIST_OF_PROGRAMMING_LANGUAGES) as r:\n",
    "    soup = BeautifulSoup(r.text, 'html.parser')"
   ]
  },
  {
   "cell_type": "markdown",
   "metadata": {},
   "source": [
    "Once we have the data, we can scrape names of programming languages:"
   ]
  },
  {
   "cell_type": "code",
   "execution_count": 2,
   "metadata": {},
   "outputs": [],
   "source": [
    "import re\n",
    "\n",
    "content = soup.find('div', {'id': 'mw-content-text'})\n",
    "sections = content.find_all('div', {'class': 'columns'})\n",
    "\n",
    "sections_combined = sections[0]\n",
    "for i in range(1, len(sections)):\n",
    "    sections_combined.append(sections[i])\n",
    "\n",
    "# in this case, the following two lines are equivalent:\n",
    "\n",
    "#lis = sections_combined.findChildren('li')\n",
    "lis = sections_combined.find_all('li')\n",
    "\n",
    "programming_languages = []\n",
    "for li in lis:\n",
    "    # some languages had notes in parenthesis after their names. These were removed.\n",
    "    programming_languages.append(re.sub(r'\\(.*', '', li.text).strip())\n",
    "    \n",
    "# some languages had other extra text and had to be manually edited\n",
    "programming_languages[programming_languages.index('App Inventor for Android\\'s visual block language')] = 'App Inventor'\n",
    "programming_languages[programming_languages.index('C – ISO/IEC 9899')] = 'C'\n",
    "programming_languages[programming_languages.index('COBOL – ISO/IEC 1989')] = 'COBOL'\n",
    "programming_languages[programming_languages.index('CobolScript – COBOL Scripting language')] = 'Cobolscript'\n",
    "programming_languages[programming_languages.index('EusLisp Robot Programming Language')] = 'EusLisp'\n",
    "programming_languages[programming_languages.index('Fortran – ISO/IEC 1539')] = 'Fortran'\n",
    "programming_languages[programming_languages.index('Game Maker Language')] = 'GML'\n",
    "programming_languages[programming_languages.index('MASM Microsoft Assembly x86')] = 'MASM'\n",
    "programming_languages[programming_languages.index('MaxScript internal language 3D Studio Max')] = 'maxscript'\n",
    "programming_languages[programming_languages.index('Not eXactly C')] = 'nxc'\n",
    "programming_languages[programming_languages.index('PL/I – ISO 6160')] = 'PL/I'\n",
    "programming_languages[programming_languages.index('PowerBuilder – 4GL GUI application generator from Sybase')] = 'PowerBuilder'\n",
    "programming_languages[programming_languages.index('TMG, compiler-compiler')] = 'tmg'\n",
    "programming_languages[programming_languages.index('WATFIV, WATFOR')] = 'WATFIV'\n",
    "\n",
    "i = programming_languages.index('AutoLISP / Visual LISP')\n",
    "programming_languages[i] = 'AutoLISP'\n",
    "programming_languages.insert(i, 'Visual LISP')\n",
    "\n",
    "programming_languages.append('.net-core')\n",
    "\n",
    "# spaces were replaced with '-', as this seems to be the stackoverflow convention.\n",
    "# for instance, the tag 'assemblylanguage' (stackoverflow removes whitespace) has\n",
    "# 0 questions, but 'assembly-language' redirects to 'assembly', which has 35,579\n",
    "# questions at the time of writing.\n",
    "\n",
    "# additionally, 'commonlisp' has 0 questions, but 'common-lisp' has 5,368 questions\n",
    "# at the time of writing\n",
    "\n",
    "for i in range(len(programming_languages)):\n",
    "    programming_languages[i] = programming_languages[i].replace(' ', '-')\n",
    "\n",
    "# optionally, print and inspect the languages here\n",
    "#print(programming_languages)"
   ]
  },
  {
   "cell_type": "markdown",
   "metadata": {},
   "source": [
    "## Programming languages by category\n",
    "Categorizing anything is difficult and often arbitrary. However, there are certain classes of languages the author is interested in, and so a few categories have been manually compiled below. Wikipedia has a page titled [\"list of programming languages by type\"](https://en.wikipedia.org/wiki/List_of_programming_languages_by_type) that was a frequent reference. However, the choice of languages to include was based entirely on the author's interests and opinions."
   ]
  },
  {
   "cell_type": "code",
   "execution_count": 3,
   "metadata": {},
   "outputs": [],
   "source": [
    "# some specific categories\n",
    "pl_systems = ['ada', 'c', 'c++', 'd', 'nim', 'rust', 'swift']\n",
    "\n",
    "pl_functional_pure = ['elm', 'haskell', 'purescript']\n",
    "pl_functional_impure = ['elixir', 'erlang', 'lisp', 'ocaml', 'rust']\n",
    "pl_functional_all = pl_functional_pure + pl_functional_impure\n",
    "\n",
    "pl_concurrent = ['ballerina', 'clojure', 'eiffel', 'elixir', 'erlang', 'go']\n",
    "\n",
    "pl_pure_oo = ['pharo', 'self', 'smalltalk']\n",
    "\n",
    "# combine everything above without duplicates\n",
    "pl_authors_interests = set(pl_systems + pl_functional_all + pl_concurrent + pl_pure_oo)\n",
    "\n",
    "# some broader categories\n",
    "pl_compiled = ['ada', 'ballerina', 'c', 'c++', 'c#', 'clojure', 'common-lisp', \n",
    "               'crystal', 'd', 'delphi', 'eiffel', 'elm', 'erlang', 'f#', \n",
    "               'fortran', 'go', 'groovy', 'haskell', 'java', 'julia', 'kotlin',\n",
    "               'nim', 'objective-c', 'rust', 'scala', 'smalltalk', 'swift', \n",
    "               'ocaml']\n",
    "pl_interpreted = ['javascript', 'lua', 'matlab', 'ocaml', 'php', 'python', 'r', \n",
    "                  'ruby', 'bash', ]\n"
   ]
  }
 ],
 "metadata": {
  "kernelspec": {
   "display_name": "Python 3",
   "language": "python",
   "name": "python3"
  },
  "language_info": {
   "codemirror_mode": {
    "name": "ipython",
    "version": 3
   },
   "file_extension": ".py",
   "mimetype": "text/x-python",
   "name": "python",
   "nbconvert_exporter": "python",
   "pygments_lexer": "ipython3",
   "version": "3.8.3"
  },
  "varInspector": {
   "cols": {
    "lenName": 16,
    "lenType": 16,
    "lenVar": 40
   },
   "kernels_config": {
    "python": {
     "delete_cmd_postfix": "",
     "delete_cmd_prefix": "del ",
     "library": "var_list.py",
     "varRefreshCmd": "print(var_dic_list())"
    },
    "r": {
     "delete_cmd_postfix": ") ",
     "delete_cmd_prefix": "rm(",
     "library": "var_list.r",
     "varRefreshCmd": "cat(var_dic_list()) "
    }
   },
   "types_to_exclude": [
    "module",
    "function",
    "builtin_function_or_method",
    "instance",
    "_Feature"
   ],
   "window_display": false
  }
 },
 "nbformat": 4,
 "nbformat_minor": 2
}
